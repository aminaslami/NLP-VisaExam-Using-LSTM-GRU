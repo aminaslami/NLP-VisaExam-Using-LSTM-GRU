{
 "cells": [
  {
   "cell_type": "markdown",
   "metadata": {},
   "source": [
    "$$\\huge{\\textbf{Finansal Sentiment Analizi}}$$"
   ]
  },
  {
   "cell_type": "markdown",
   "metadata": {},
   "source": [
    "# Sorun Bildirimi"
   ]
  },
  {
   "cell_type": "markdown",
   "metadata": {},
   "source": [
    "The main task is to detect the tone of the financial text i.e, positive,negative or neutral using Deep Learning approaches."
   ]
  },
  {
   "cell_type": "markdown",
   "metadata": {},
   "source": [
    "# Veri seti açıklaması"
   ]
  },
  {
   "cell_type": "markdown",
   "metadata": {},
   "source": [
    "Aşağıdaki veriler finansal duygu analizi araştırmalarını ilerletmek için tasarlanmıştır. İki veri kümesi (FiQA, Financial PhraseBank) tek bir kullanımı kolay CSV dosyasında birleştirilmiştir. Duygu etiketleriyle finansal cümleler sağlar.\n",
    "\n",
    "Veri setini indirmek için bağlantı (kaynak): https://www.kaggle.com/datasets/sbhatti/financial-sentiment-analysis"
   ]
  },
  {
   "cell_type": "markdown",
   "metadata": {},
   "source": [
    "# Methodoloji"
   ]
  },
  {
   "cell_type": "markdown",
   "metadata": {},
   "source": [
    "Görevin metodolojisi aşağıdakileri içerecektir:\n",
    "\n",
    "1. Veri Ön İşleme:\n",
    "\n",
    "Veri ön işleme, model eğitimi için verilerin belirteçleştirilmesini, vektörleştirilmesini ve eğitim testi bölünmesini içerir.\n",
    "\n",
    "2. Modeller:\n",
    "\n",
    "Verileri eğitmek için kullanılacak modeller şunlardır:\n",
    " - Basic LSTM\n",
    " - Glove + LSTM\n",
    " - Glove + GRU\n",
    " - FastText + LSTM"
   ]
  },
  {
   "cell_type": "markdown",
   "metadata": {},
   "source": [
    "## Veri ön işleme"
   ]
  },
  {
   "cell_type": "markdown",
   "metadata": {},
   "source": [
    "### Text_Hammer yüklenmesi:\n",
    "!pip install text_hammer"
   ]
  },
  {
   "cell_type": "code",
   "execution_count": 11,
   "metadata": {
    "execution": {
     "iopub.execute_input": "2024-12-16T20:13:53.757169Z",
     "iopub.status.busy": "2024-12-16T20:13:53.756793Z",
     "iopub.status.idle": "2024-12-16T20:14:01.987358Z",
     "shell.execute_reply": "2024-12-16T20:14:01.986370Z",
     "shell.execute_reply.started": "2024-12-16T20:13:53.757133Z"
    },
    "trusted": true
   },
   "outputs": [
    {
     "name": "stdout",
     "output_type": "stream",
     "text": [
      "Requirement already satisfied: text_hammer in /opt/conda/lib/python3.7/site-packages (0.1.5)\n",
      "Requirement already satisfied: numpy in /opt/conda/lib/python3.7/site-packages (from text_hammer) (1.21.6)\n",
      "Requirement already satisfied: TextBlob in /opt/conda/lib/python3.7/site-packages (from text_hammer) (0.17.1)\n",
      "Requirement already satisfied: pandas in /opt/conda/lib/python3.7/site-packages (from text_hammer) (1.3.5)\n",
      "Requirement already satisfied: spacy in /opt/conda/lib/python3.7/site-packages (from text_hammer) (3.3.1)\n",
      "Requirement already satisfied: beautifulsoup4==4.9.1 in /opt/conda/lib/python3.7/site-packages (from text_hammer) (4.9.1)\n",
      "Requirement already satisfied: soupsieve>1.2 in /opt/conda/lib/python3.7/site-packages (from beautifulsoup4==4.9.1->text_hammer) (2.3.1)\n",
      "Requirement already satisfied: python-dateutil>=2.7.3 in /opt/conda/lib/python3.7/site-packages (from pandas->text_hammer) (2.8.2)\n",
      "Requirement already satisfied: pytz>=2017.3 in /opt/conda/lib/python3.7/site-packages (from pandas->text_hammer) (2022.1)\n",
      "Requirement already satisfied: thinc<8.1.0,>=8.0.14 in /opt/conda/lib/python3.7/site-packages (from spacy->text_hammer) (8.0.17)\n",
      "Requirement already satisfied: srsly<3.0.0,>=2.4.3 in /opt/conda/lib/python3.7/site-packages (from spacy->text_hammer) (2.4.5)\n",
      "Requirement already satisfied: pydantic!=1.8,!=1.8.1,<1.9.0,>=1.7.4 in /opt/conda/lib/python3.7/site-packages (from spacy->text_hammer) (1.8.2)\n",
      "Requirement already satisfied: pathy>=0.3.5 in /opt/conda/lib/python3.7/site-packages (from spacy->text_hammer) (0.6.2)\n",
      "Requirement already satisfied: cymem<2.1.0,>=2.0.2 in /opt/conda/lib/python3.7/site-packages (from spacy->text_hammer) (2.0.7)\n",
      "Requirement already satisfied: wasabi<1.1.0,>=0.9.1 in /opt/conda/lib/python3.7/site-packages (from spacy->text_hammer) (0.10.1)\n",
      "Requirement already satisfied: spacy-legacy<3.1.0,>=3.0.9 in /opt/conda/lib/python3.7/site-packages (from spacy->text_hammer) (3.0.10)\n",
      "Requirement already satisfied: tqdm<5.0.0,>=4.38.0 in /opt/conda/lib/python3.7/site-packages (from spacy->text_hammer) (4.64.0)\n",
      "Requirement already satisfied: setuptools in /opt/conda/lib/python3.7/site-packages (from spacy->text_hammer) (59.8.0)\n",
      "Requirement already satisfied: preshed<3.1.0,>=3.0.2 in /opt/conda/lib/python3.7/site-packages (from spacy->text_hammer) (3.0.8)\n",
      "Requirement already satisfied: langcodes<4.0.0,>=3.2.0 in /opt/conda/lib/python3.7/site-packages (from spacy->text_hammer) (3.3.0)\n",
      "Requirement already satisfied: spacy-loggers<2.0.0,>=1.0.0 in /opt/conda/lib/python3.7/site-packages (from spacy->text_hammer) (1.0.3)\n",
      "Requirement already satisfied: typing-extensions<4.2.0,>=3.7.4 in /opt/conda/lib/python3.7/site-packages (from spacy->text_hammer) (4.1.1)\n",
      "Requirement already satisfied: blis<0.8.0,>=0.4.0 in /opt/conda/lib/python3.7/site-packages (from spacy->text_hammer) (0.7.9)\n",
      "Requirement already satisfied: packaging>=20.0 in /opt/conda/lib/python3.7/site-packages (from spacy->text_hammer) (21.3)\n",
      "Requirement already satisfied: jinja2 in /opt/conda/lib/python3.7/site-packages (from spacy->text_hammer) (3.1.2)\n",
      "Requirement already satisfied: requests<3.0.0,>=2.13.0 in /opt/conda/lib/python3.7/site-packages (from spacy->text_hammer) (2.28.1)\n",
      "Requirement already satisfied: catalogue<2.1.0,>=2.0.6 in /opt/conda/lib/python3.7/site-packages (from spacy->text_hammer) (2.0.8)\n",
      "Requirement already satisfied: typer<0.5.0,>=0.3.0 in /opt/conda/lib/python3.7/site-packages (from spacy->text_hammer) (0.4.2)\n",
      "Requirement already satisfied: murmurhash<1.1.0,>=0.28.0 in /opt/conda/lib/python3.7/site-packages (from spacy->text_hammer) (1.0.9)\n",
      "Requirement already satisfied: nltk>=3.1 in /opt/conda/lib/python3.7/site-packages (from TextBlob->text_hammer) (3.7)\n",
      "Requirement already satisfied: zipp>=0.5 in /opt/conda/lib/python3.7/site-packages (from catalogue<2.1.0,>=2.0.6->spacy->text_hammer) (3.8.0)\n",
      "Requirement already satisfied: click in /opt/conda/lib/python3.7/site-packages (from nltk>=3.1->TextBlob->text_hammer) (8.0.4)\n",
      "Requirement already satisfied: regex>=2021.8.3 in /opt/conda/lib/python3.7/site-packages (from nltk>=3.1->TextBlob->text_hammer) (2021.11.10)\n",
      "Requirement already satisfied: joblib in /opt/conda/lib/python3.7/site-packages (from nltk>=3.1->TextBlob->text_hammer) (1.0.1)\n",
      "Requirement already satisfied: pyparsing!=3.0.5,>=2.0.2 in /opt/conda/lib/python3.7/site-packages (from packaging>=20.0->spacy->text_hammer) (3.0.9)\n",
      "Requirement already satisfied: smart-open<6.0.0,>=5.2.1 in /opt/conda/lib/python3.7/site-packages (from pathy>=0.3.5->spacy->text_hammer) (5.2.1)\n",
      "Requirement already satisfied: six>=1.5 in /opt/conda/lib/python3.7/site-packages (from python-dateutil>=2.7.3->pandas->text_hammer) (1.15.0)\n",
      "Requirement already satisfied: idna<4,>=2.5 in /opt/conda/lib/python3.7/site-packages (from requests<3.0.0,>=2.13.0->spacy->text_hammer) (3.3)\n",
      "Requirement already satisfied: charset-normalizer<3,>=2 in /opt/conda/lib/python3.7/site-packages (from requests<3.0.0,>=2.13.0->spacy->text_hammer) (2.1.0)\n",
      "Requirement already satisfied: urllib3<1.27,>=1.21.1 in /opt/conda/lib/python3.7/site-packages (from requests<3.0.0,>=2.13.0->spacy->text_hammer) (1.26.12)\n",
      "Requirement already satisfied: certifi>=2017.4.17 in /opt/conda/lib/python3.7/site-packages (from requests<3.0.0,>=2.13.0->spacy->text_hammer) (2022.9.24)\n",
      "Requirement already satisfied: MarkupSafe>=2.0 in /opt/conda/lib/python3.7/site-packages (from jinja2->spacy->text_hammer) (2.1.1)\n",
      "Requirement already satisfied: importlib-metadata in /opt/conda/lib/python3.7/site-packages (from click->nltk>=3.1->TextBlob->text_hammer) (4.13.0)\n",
      "\u001b[33mWARNING: Running pip as the 'root' user can result in broken permissions and conflicting behaviour with the system package manager. It is recommended to use a virtual environment instead: https://pip.pypa.io/warnings/venv\u001b[0m\u001b[33m\n",
      "\u001b[0m"
     ]
    }
   ],
   "source": [
    "import cv2\n",
    "import pandas as pd\n",
    "import numpy as np\n",
    "import os\n",
    "import matplotlib.pyplot as plt\n",
    "from matplotlib import cm\n",
    "import text_hammer as th\n",
    "import warnings\n",
    "warnings.filterwarnings('ignore')\n",
    "from tqdm import tqdm_notebook as tqdm"
   ]
  },
  {
   "cell_type": "code",
   "execution_count": 12,
   "metadata": {
    "execution": {
     "iopub.execute_input": "2024-12-16T20:14:01.990139Z",
     "iopub.status.busy": "2024-12-16T20:14:01.989756Z",
     "iopub.status.idle": "2024-12-16T20:14:02.047405Z",
     "shell.execute_reply": "2024-12-16T20:14:02.046651Z",
     "shell.execute_reply.started": "2024-12-16T20:14:01.990101Z"
    },
    "trusted": true
   },
   "outputs": [],
   "source": [
    "df = pd.read_csv('../input/financial-sentiment-analysis/data.csv')"
   ]
  },
  {
   "cell_type": "code",
   "execution_count": 13,
   "metadata": {
    "execution": {
     "iopub.execute_input": "2024-12-16T20:14:08.281302Z",
     "iopub.status.busy": "2024-12-16T20:14:08.280530Z",
     "iopub.status.idle": "2024-12-16T20:14:08.296155Z",
     "shell.execute_reply": "2024-12-16T20:14:08.295211Z",
     "shell.execute_reply.started": "2024-12-16T20:14:08.281266Z"
    },
    "trusted": true
   },
   "outputs": [
    {
     "data": {
      "text/html": [
       "<div>\n",
       "<style scoped>\n",
       "    .dataframe tbody tr th:only-of-type {\n",
       "        vertical-align: middle;\n",
       "    }\n",
       "\n",
       "    .dataframe tbody tr th {\n",
       "        vertical-align: top;\n",
       "    }\n",
       "\n",
       "    .dataframe thead th {\n",
       "        text-align: right;\n",
       "    }\n",
       "</style>\n",
       "<table border=\"1\" class=\"dataframe\">\n",
       "  <thead>\n",
       "    <tr style=\"text-align: right;\">\n",
       "      <th></th>\n",
       "      <th>Sentence</th>\n",
       "      <th>Sentiment</th>\n",
       "    </tr>\n",
       "  </thead>\n",
       "  <tbody>\n",
       "    <tr>\n",
       "      <th>0</th>\n",
       "      <td>The GeoSolutions technology will leverage Bene...</td>\n",
       "      <td>positive</td>\n",
       "    </tr>\n",
       "    <tr>\n",
       "      <th>1</th>\n",
       "      <td>$ESI on lows, down $1.50 to $2.50 BK a real po...</td>\n",
       "      <td>negative</td>\n",
       "    </tr>\n",
       "    <tr>\n",
       "      <th>2</th>\n",
       "      <td>For the last quarter of 2010 , Componenta 's n...</td>\n",
       "      <td>positive</td>\n",
       "    </tr>\n",
       "    <tr>\n",
       "      <th>3</th>\n",
       "      <td>According to the Finnish-Russian Chamber of Co...</td>\n",
       "      <td>neutral</td>\n",
       "    </tr>\n",
       "    <tr>\n",
       "      <th>4</th>\n",
       "      <td>The Swedish buyout firm has sold its remaining...</td>\n",
       "      <td>neutral</td>\n",
       "    </tr>\n",
       "    <tr>\n",
       "      <th>5</th>\n",
       "      <td>$SPY wouldn't be surprised to see a green close</td>\n",
       "      <td>positive</td>\n",
       "    </tr>\n",
       "    <tr>\n",
       "      <th>6</th>\n",
       "      <td>Shell's $70 Billion BG Deal Meets Shareholder ...</td>\n",
       "      <td>negative</td>\n",
       "    </tr>\n",
       "    <tr>\n",
       "      <th>7</th>\n",
       "      <td>SSH COMMUNICATIONS SECURITY CORP STOCK EXCHANG...</td>\n",
       "      <td>negative</td>\n",
       "    </tr>\n",
       "    <tr>\n",
       "      <th>8</th>\n",
       "      <td>Kone 's net sales rose by some 14 % year-on-ye...</td>\n",
       "      <td>positive</td>\n",
       "    </tr>\n",
       "    <tr>\n",
       "      <th>9</th>\n",
       "      <td>The Stockmann department store will have a tot...</td>\n",
       "      <td>neutral</td>\n",
       "    </tr>\n",
       "    <tr>\n",
       "      <th>10</th>\n",
       "      <td>Circulation revenue has increased by 5 % in Fi...</td>\n",
       "      <td>positive</td>\n",
       "    </tr>\n",
       "    <tr>\n",
       "      <th>11</th>\n",
       "      <td>$SAP Q1 disappoints as #software licenses down...</td>\n",
       "      <td>negative</td>\n",
       "    </tr>\n",
       "    <tr>\n",
       "      <th>12</th>\n",
       "      <td>The subdivision made sales revenues last year ...</td>\n",
       "      <td>positive</td>\n",
       "    </tr>\n",
       "    <tr>\n",
       "      <th>13</th>\n",
       "      <td>Viking Line has canceled some services .</td>\n",
       "      <td>neutral</td>\n",
       "    </tr>\n",
       "  </tbody>\n",
       "</table>\n",
       "</div>"
      ],
      "text/plain": [
       "                                             Sentence Sentiment\n",
       "0   The GeoSolutions technology will leverage Bene...  positive\n",
       "1   $ESI on lows, down $1.50 to $2.50 BK a real po...  negative\n",
       "2   For the last quarter of 2010 , Componenta 's n...  positive\n",
       "3   According to the Finnish-Russian Chamber of Co...   neutral\n",
       "4   The Swedish buyout firm has sold its remaining...   neutral\n",
       "5     $SPY wouldn't be surprised to see a green close  positive\n",
       "6   Shell's $70 Billion BG Deal Meets Shareholder ...  negative\n",
       "7   SSH COMMUNICATIONS SECURITY CORP STOCK EXCHANG...  negative\n",
       "8   Kone 's net sales rose by some 14 % year-on-ye...  positive\n",
       "9   The Stockmann department store will have a tot...   neutral\n",
       "10  Circulation revenue has increased by 5 % in Fi...  positive\n",
       "11  $SAP Q1 disappoints as #software licenses down...  negative\n",
       "12  The subdivision made sales revenues last year ...  positive\n",
       "13           Viking Line has canceled some services .   neutral"
      ]
     },
     "execution_count": 13,
     "metadata": {},
     "output_type": "execute_result"
    }
   ],
   "source": [
    "df.head(14)"
   ]
  },
  {
   "cell_type": "code",
   "execution_count": 14,
   "metadata": {
    "execution": {
     "iopub.execute_input": "2024-12-16T20:14:10.813537Z",
     "iopub.status.busy": "2024-12-16T20:14:10.813186Z",
     "iopub.status.idle": "2024-12-16T20:14:11.091387Z",
     "shell.execute_reply": "2024-12-16T20:14:11.090459Z",
     "shell.execute_reply.started": "2024-12-16T20:14:10.813505Z"
    },
    "trusted": true
   },
   "outputs": [
    {
     "data": {
      "image/png": "[encoded data removed]",
      "text/plain": [
       "<Figure size 432x288 with 1 Axes>"
      ]
     },
     "metadata": {},
     "output_type": "display_data"
    }
   ],
   "source": [
    "import seaborn as sns\n",
    "sns.set_style('darkgrid')\n",
    "sns.histplot(x='Sentiment',data=df)\n",
    "plt.show()"
   ]
  },
  {
   "cell_type": "code",
   "execution_count": 15,
   "metadata": {
    "execution": {
     "iopub.execute_input": "2024-12-16T20:14:15.108023Z",
     "iopub.status.busy": "2024-12-16T20:14:15.107648Z",
     "iopub.status.idle": "2024-12-16T20:14:15.127545Z",
     "shell.execute_reply": "2024-12-16T20:14:15.126523Z",
     "shell.execute_reply.started": "2024-12-16T20:14:15.107991Z"
    },
    "trusted": true
   },
   "outputs": [
    {
     "data": {
      "text/html": [
       "<div>\n",
       "<style scoped>\n",
       "    .dataframe tbody tr th:only-of-type {\n",
       "        vertical-align: middle;\n",
       "    }\n",
       "\n",
       "    .dataframe tbody tr th {\n",
       "        vertical-align: top;\n",
       "    }\n",
       "\n",
       "    .dataframe thead th {\n",
       "        text-align: right;\n",
       "    }\n",
       "</style>\n",
       "<table border=\"1\" class=\"dataframe\">\n",
       "  <thead>\n",
       "    <tr style=\"text-align: right;\">\n",
       "      <th></th>\n",
       "      <th>Sentence</th>\n",
       "      <th>Sentiment</th>\n",
       "      <th>len</th>\n",
       "    </tr>\n",
       "  </thead>\n",
       "  <tbody>\n",
       "    <tr>\n",
       "      <th>0</th>\n",
       "      <td>The GeoSolutions technology will leverage Bene...</td>\n",
       "      <td>positive</td>\n",
       "      <td>32</td>\n",
       "    </tr>\n",
       "    <tr>\n",
       "      <th>1</th>\n",
       "      <td>$ESI on lows, down $1.50 to $2.50 BK a real po...</td>\n",
       "      <td>negative</td>\n",
       "      <td>11</td>\n",
       "    </tr>\n",
       "    <tr>\n",
       "      <th>2</th>\n",
       "      <td>For the last quarter of 2010 , Componenta 's n...</td>\n",
       "      <td>positive</td>\n",
       "      <td>39</td>\n",
       "    </tr>\n",
       "    <tr>\n",
       "      <th>3</th>\n",
       "      <td>According to the Finnish-Russian Chamber of Co...</td>\n",
       "      <td>neutral</td>\n",
       "      <td>20</td>\n",
       "    </tr>\n",
       "    <tr>\n",
       "      <th>4</th>\n",
       "      <td>The Swedish buyout firm has sold its remaining...</td>\n",
       "      <td>neutral</td>\n",
       "      <td>23</td>\n",
       "    </tr>\n",
       "  </tbody>\n",
       "</table>\n",
       "</div>"
      ],
      "text/plain": [
       "                                            Sentence Sentiment  len\n",
       "0  The GeoSolutions technology will leverage Bene...  positive   32\n",
       "1  $ESI on lows, down $1.50 to $2.50 BK a real po...  negative   11\n",
       "2  For the last quarter of 2010 , Componenta 's n...  positive   39\n",
       "3  According to the Finnish-Russian Chamber of Co...   neutral   20\n",
       "4  The Swedish buyout firm has sold its remaining...   neutral   23"
      ]
     },
     "execution_count": 15,
     "metadata": {},
     "output_type": "execute_result"
    }
   ],
   "source": [
    "df['len'] = list(map(lambda x: len(str(x).split(' ')),df['Sentence']))\n",
    "df.head()"
   ]
  },
  {
   "cell_type": "code",
   "execution_count": 16,
   "metadata": {
    "execution": {
     "iopub.execute_input": "2024-12-16T20:14:18.014098Z",
     "iopub.status.busy": "2024-12-16T20:14:18.013700Z",
     "iopub.status.idle": "2024-12-16T20:14:18.280652Z",
     "shell.execute_reply": "2024-12-16T20:14:18.279667Z",
     "shell.execute_reply.started": "2024-12-16T20:14:18.014068Z"
    },
    "trusted": true
   },
   "outputs": [
    {
     "data": {
      "image/png": "[encoded data removed]",
      "text/plain": [
       "<Figure size 432x288 with 1 Axes>"
      ]
     },
     "metadata": {},
     "output_type": "display_data"
    }
   ],
   "source": [
    "sns.kdeplot(x='len',hue='Sentiment',data=df)\n",
    "plt.show()"
   ]
  },
  {
   "cell_type": "code",
   "execution_count": 17,
   "metadata": {
    "execution": {
     "iopub.execute_input": "2024-12-16T20:14:26.197122Z",
     "iopub.status.busy": "2024-12-16T20:14:26.196394Z",
     "iopub.status.idle": "2024-12-16T20:14:26.209237Z",
     "shell.execute_reply": "2024-12-16T20:14:26.208248Z",
     "shell.execute_reply.started": "2024-12-16T20:14:26.197085Z"
    },
    "trusted": true
   },
   "outputs": [
    {
     "data": {
      "text/html": [
       "<div>\n",
       "<style scoped>\n",
       "    .dataframe tbody tr th:only-of-type {\n",
       "        vertical-align: middle;\n",
       "    }\n",
       "\n",
       "    .dataframe tbody tr th {\n",
       "        vertical-align: top;\n",
       "    }\n",
       "\n",
       "    .dataframe thead th {\n",
       "        text-align: right;\n",
       "    }\n",
       "</style>\n",
       "<table border=\"1\" class=\"dataframe\">\n",
       "  <thead>\n",
       "    <tr style=\"text-align: right;\">\n",
       "      <th></th>\n",
       "      <th>Sentence</th>\n",
       "      <th>Sentiment</th>\n",
       "      <th>len</th>\n",
       "    </tr>\n",
       "  </thead>\n",
       "  <tbody>\n",
       "    <tr>\n",
       "      <th>0</th>\n",
       "      <td>The GeoSolutions technology will leverage Bene...</td>\n",
       "      <td>0</td>\n",
       "      <td>32</td>\n",
       "    </tr>\n",
       "    <tr>\n",
       "      <th>1</th>\n",
       "      <td>$ESI on lows, down $1.50 to $2.50 BK a real po...</td>\n",
       "      <td>1</td>\n",
       "      <td>11</td>\n",
       "    </tr>\n",
       "    <tr>\n",
       "      <th>2</th>\n",
       "      <td>For the last quarter of 2010 , Componenta 's n...</td>\n",
       "      <td>0</td>\n",
       "      <td>39</td>\n",
       "    </tr>\n",
       "    <tr>\n",
       "      <th>3</th>\n",
       "      <td>According to the Finnish-Russian Chamber of Co...</td>\n",
       "      <td>2</td>\n",
       "      <td>20</td>\n",
       "    </tr>\n",
       "    <tr>\n",
       "      <th>4</th>\n",
       "      <td>The Swedish buyout firm has sold its remaining...</td>\n",
       "      <td>2</td>\n",
       "      <td>23</td>\n",
       "    </tr>\n",
       "  </tbody>\n",
       "</table>\n",
       "</div>"
      ],
      "text/plain": [
       "                                            Sentence  Sentiment  len\n",
       "0  The GeoSolutions technology will leverage Bene...          0   32\n",
       "1  $ESI on lows, down $1.50 to $2.50 BK a real po...          1   11\n",
       "2  For the last quarter of 2010 , Componenta 's n...          0   39\n",
       "3  According to the Finnish-Russian Chamber of Co...          2   20\n",
       "4  The Swedish buyout firm has sold its remaining...          2   23"
      ]
     },
     "execution_count": 17,
     "metadata": {},
     "output_type": "execute_result"
    }
   ],
   "source": [
    "mapdf = {'positive':0,'negative':1,'neutral':2}\n",
    "df['Sentiment'] = list(map(lambda x:mapdf[x],df['Sentiment']))\n",
    "df.head()"
   ]
  },
  {
   "cell_type": "code",
   "execution_count": 18,
   "metadata": {
    "execution": {
     "iopub.execute_input": "2024-12-16T20:14:30.903498Z",
     "iopub.status.busy": "2024-12-16T20:14:30.903126Z",
     "iopub.status.idle": "2024-12-16T20:14:30.910276Z",
     "shell.execute_reply": "2024-12-16T20:14:30.909378Z",
     "shell.execute_reply.started": "2024-12-16T20:14:30.903469Z"
    },
    "trusted": true
   },
   "outputs": [
    {
     "name": "stdout",
     "output_type": "stream",
     "text": [
      "0.10137114484667775\n"
     ]
    }
   ],
   "source": [
    "print(df['Sentiment'].corr(df['len']))"
   ]
  },
  {
   "cell_type": "code",
   "execution_count": 19,
   "metadata": {
    "execution": {
     "iopub.execute_input": "2024-12-16T20:14:33.887269Z",
     "iopub.status.busy": "2024-12-16T20:14:33.886364Z",
     "iopub.status.idle": "2024-12-16T20:15:19.239097Z",
     "shell.execute_reply": "2024-12-16T20:15:19.238349Z",
     "shell.execute_reply.started": "2024-12-16T20:14:33.887224Z"
    },
    "trusted": true
   },
   "outputs": [],
   "source": [
    "sentences = df['Sentence'].copy()[:]\n",
    "sentences = sentences.to_list()\n",
    "sentences = list(map(lambda x: x.lower(),sentences))\n",
    "sentences = list(map(lambda x: th.cont_exp(x),sentences))\n",
    "sentences = list(map(lambda x: th.remove_emails(x),sentences))\n",
    "sentences = list(map(lambda x: th.remove_emails(x),sentences))\n",
    "sentences = list(map(lambda x: th.remove_html_tags(x),sentences))\n",
    "sentences = list(map(lambda x: th.remove_stopwords(x),sentences))\n",
    "sentences = list(map(lambda x: th.remove_special_chars(x),sentences))\n",
    "sentences = list(map(lambda x: th.remove_accented_chars(x),sentences))\n",
    "sentences = list(map(lambda x: th.make_base(x),sentences))"
   ]
  },
  {
   "cell_type": "code",
   "execution_count": 20,
   "metadata": {
    "execution": {
     "iopub.execute_input": "2024-12-16T20:15:25.343228Z",
     "iopub.status.busy": "2024-12-16T20:15:25.342847Z",
     "iopub.status.idle": "2024-12-16T20:15:25.349685Z",
     "shell.execute_reply": "2024-12-16T20:15:25.348664Z",
     "shell.execute_reply.started": "2024-12-16T20:15:25.343180Z"
    },
    "trusted": true
   },
   "outputs": [
    {
     "data": {
      "text/plain": [
       "['geosolution technology leverage benefon global positioning system solution provide location base search technology community platform location relevant multimedia content new powerful commercial model',\n",
       " 'esi lows 150 250 bk real possibility',\n",
       " 'quarter 2010 componenta net sale double eur131 m eur76 m period year early move zero pretax profit pretax loss eur7 m',\n",
       " 'accord finnishrussian chamber commerce major construction company finland operate russia',\n",
       " 'swedish buyout firm sell remain 224 percent stake eighteen month take company public finland']"
      ]
     },
     "execution_count": 20,
     "metadata": {},
     "output_type": "execute_result"
    }
   ],
   "source": [
    "sentences[:5]"
   ]
  },
  {
   "cell_type": "code",
   "execution_count": 21,
   "metadata": {
    "execution": {
     "iopub.execute_input": "2024-12-16T20:15:46.361904Z",
     "iopub.status.busy": "2024-12-16T20:15:46.360973Z",
     "iopub.status.idle": "2024-12-16T20:15:47.049067Z",
     "shell.execute_reply": "2024-12-16T20:15:47.047881Z",
     "shell.execute_reply.started": "2024-12-16T20:15:46.361867Z"
    },
    "trusted": true
   },
   "outputs": [
    {
     "data": {
      "application/vnd.jupyter.widget-view+json": {
       "model_id": "f57b9fcddd814cec8796a36cfd4fc9a8",
       "version_major": 2,
       "version_minor": 0
      },
      "text/plain": [
       "  0%|          | 0/5842 [00:00<?, ?it/s]"
      ]
     },
     "metadata": {},
     "output_type": "display_data"
    },
    {
     "data": {
      "text/plain": [
       "[('eur', 1284),\n",
       " ('company', 915),\n",
       " ('mn', 729),\n",
       " ('sale', 595),\n",
       " ('profit', 584),\n",
       " ('say', 574),\n",
       " ('finnish', 527),\n",
       " ('share', 512),\n",
       " ('net', 499),\n",
       " ('million', 493),\n",
       " ('m', 453),\n",
       " ('year', 377),\n",
       " ('2009', 352),\n",
       " ('mln', 348)]"
      ]
     },
     "execution_count": 21,
     "metadata": {},
     "output_type": "execute_result"
    }
   ],
   "source": [
    "import nltk\n",
    "pairs = []\n",
    "for sent in tqdm(sentences):\n",
    "    pairs.extend(nltk.word_tokenize(sent))\n",
    "freq = nltk.FreqDist(pairs)\n",
    "freq.most_common(14)"
   ]
  },
  {
   "cell_type": "code",
   "execution_count": 22,
   "metadata": {
    "execution": {
     "iopub.execute_input": "2024-12-16T20:15:49.786090Z",
     "iopub.status.busy": "2024-12-16T20:15:49.784992Z",
     "iopub.status.idle": "2024-12-16T20:15:49.998048Z",
     "shell.execute_reply": "2024-12-16T20:15:49.996763Z",
     "shell.execute_reply.started": "2024-12-16T20:15:49.786049Z"
    },
    "trusted": true
   },
   "outputs": [
    {
     "data": {
      "image/png": "[encoded data removed]",
      "text/plain": [
       "<Figure size 432x288 with 1 Axes>"
      ]
     },
     "metadata": {},
     "output_type": "display_data"
    }
   ],
   "source": [
    "tempdf = pd.DataFrame(freq.most_common(14),  columns=['word', 'count'])\n",
    "sns.barplot(x='word',y='count',data=tempdf)\n",
    "plt.title(\"Top 14 words\")\n",
    "plt.show()"
   ]
  },
  {
   "cell_type": "code",
   "execution_count": 23,
   "metadata": {
    "execution": {
     "iopub.execute_input": "2024-12-16T20:15:52.977924Z",
     "iopub.status.busy": "2024-12-16T20:15:52.977583Z",
     "iopub.status.idle": "2024-12-16T20:15:53.021747Z",
     "shell.execute_reply": "2024-12-16T20:15:53.020622Z",
     "shell.execute_reply.started": "2024-12-16T20:15:52.977896Z"
    },
    "trusted": true
   },
   "outputs": [],
   "source": [
    "from sklearn.model_selection import train_test_split\n",
    "from keras.utils.all_utils import to_categorical\n",
    "y = to_categorical(df['Sentiment'])\n",
    "x = sentences.copy()\n",
    "X_train,X_test, y_train,y_test = train_test_split(x,y,test_size=0.3,stratify=y,random_state=72)"
   ]
  },
  {
   "cell_type": "markdown",
   "metadata": {},
   "source": [
    "## Vektörizasyon"
   ]
  },
  {
   "cell_type": "code",
   "execution_count": 24,
   "metadata": {
    "execution": {
     "iopub.execute_input": "2024-12-16T20:15:56.878918Z",
     "iopub.status.busy": "2024-12-16T20:15:56.878258Z",
     "iopub.status.idle": "2024-12-16T20:15:56.978077Z",
     "shell.execute_reply": "2024-12-16T20:15:56.977114Z",
     "shell.execute_reply.started": "2024-12-16T20:15:56.878883Z"
    },
    "trusted": true
   },
   "outputs": [],
   "source": [
    "from keras.preprocessing.text import Tokenizer\n",
    "num_words = 12000 \n",
    "tokenizer=Tokenizer(num_words,lower=True)\n",
    "df_total = pd.concat([pd.Series(X_train), pd.Series(X_test)], axis = 0)\n",
    "tokenizer.fit_on_texts(df_total)"
   ]
  },
  {
   "cell_type": "code",
   "execution_count": 25,
   "metadata": {
    "execution": {
     "iopub.execute_input": "2024-12-16T20:15:59.841243Z",
     "iopub.status.busy": "2024-12-16T20:15:59.840337Z",
     "iopub.status.idle": "2024-12-16T20:15:59.925702Z",
     "shell.execute_reply": "2024-12-16T20:15:59.924753Z",
     "shell.execute_reply.started": "2024-12-16T20:15:59.841206Z"
    },
    "trusted": true
   },
   "outputs": [],
   "source": [
    "from keras.preprocessing.sequence import pad_sequences\n",
    "\n",
    "X_train_ =tokenizer.texts_to_sequences(X_train)\n",
    "X_train_pad=pad_sequences(X_train_,maxlen=81,padding='post')\n",
    "X_test_ = tokenizer.texts_to_sequences(X_test)\n",
    "X_test_pad = pad_sequences(X_test_, maxlen = 81, padding = 'post')"
   ]
  },
  {
   "cell_type": "code",
   "execution_count": 26,
   "metadata": {
    "execution": {
     "iopub.execute_input": "2024-12-16T20:16:02.876269Z",
     "iopub.status.busy": "2024-12-16T20:16:02.875610Z",
     "iopub.status.idle": "2024-12-16T20:16:02.880815Z",
     "shell.execute_reply": "2024-12-16T20:16:02.879811Z",
     "shell.execute_reply.started": "2024-12-16T20:16:02.876235Z"
    },
    "trusted": true
   },
   "outputs": [
    {
     "name": "stdout",
     "output_type": "stream",
     "text": [
      "(4089, 81) (1753, 81)\n"
     ]
    }
   ],
   "source": [
    "print(X_train_pad.shape,X_test_pad.shape)"
   ]
  },
  {
   "cell_type": "markdown",
   "metadata": {},
   "source": [
    "## LSTM"
   ]
  },
  {
   "cell_type": "code",
   "execution_count": 27,
   "metadata": {
    "execution": {
     "iopub.execute_input": "2024-12-16T20:16:05.344959Z",
     "iopub.status.busy": "2024-12-16T20:16:05.344269Z",
     "iopub.status.idle": "2024-12-16T20:16:05.349181Z",
     "shell.execute_reply": "2024-12-16T20:16:05.348238Z",
     "shell.execute_reply.started": "2024-12-16T20:16:05.344923Z"
    },
    "trusted": true
   },
   "outputs": [],
   "source": [
    "from keras.models import Sequential\n",
    "from keras.layers import LSTM,Dense,Bidirectional,Embedding,Dropout"
   ]
  },
  {
   "cell_type": "code",
   "execution_count": 28,
   "metadata": {
    "execution": {
     "iopub.execute_input": "2024-12-16T20:16:07.657526Z",
     "iopub.status.busy": "2024-12-16T20:16:07.657156Z",
     "iopub.status.idle": "2024-12-16T20:16:08.952875Z",
     "shell.execute_reply": "2024-12-16T20:16:08.952153Z",
     "shell.execute_reply.started": "2024-12-16T20:16:07.657493Z"
    },
    "trusted": true
   },
   "outputs": [],
   "source": [
    "lstm = Sequential()\n",
    "lstm.add(Embedding(input_dim = num_words,\n",
    "                          output_dim = 100,\n",
    "                          input_length= X_train_pad.shape[1]))\n",
    "lstm.add(Dropout(0.2))\n",
    "lstm.add(Bidirectional(LSTM(128,return_sequences=True)))\n",
    "lstm.add(Dropout(0.2))\n",
    "lstm.add(Bidirectional(LSTM(256,return_sequences=True)))\n",
    "lstm.add(Dropout(0.2))\n",
    "lstm.add(Bidirectional(LSTM(128,return_sequences=False)))\n",
    "lstm.add(Dense(64,activation='tanh'))\n",
    "lstm.add(Dense(32,activation='tanh'))\n",
    "lstm.add(Dense(10,activation='tanh'))\n",
    "lstm.add(Dense(3,activation='softmax'))"
   ]
  },
  {
   "cell_type": "code",
   "execution_count": 29,
   "metadata": {
    "execution": {
     "iopub.execute_input": "2024-12-16T20:16:13.118236Z",
     "iopub.status.busy": "2024-12-16T20:16:13.117513Z",
     "iopub.status.idle": "2024-12-16T20:16:13.132444Z",
     "shell.execute_reply": "2024-12-16T20:16:13.131668Z",
     "shell.execute_reply.started": "2024-12-16T20:16:13.118201Z"
    },
    "trusted": true
   },
   "outputs": [],
   "source": [
    "lstm.compile(optimizer='adam',loss='categorical_crossentropy',metrics=['accuracy'])"
   ]
  },
  {
   "cell_type": "code",
   "execution_count": 30,
   "metadata": {
    "execution": {
     "iopub.execute_input": "2024-12-16T20:16:15.456895Z",
     "iopub.status.busy": "2024-12-16T20:16:15.455994Z",
     "iopub.status.idle": "2024-12-16T20:16:15.463314Z",
     "shell.execute_reply": "2024-12-16T20:16:15.462319Z",
     "shell.execute_reply.started": "2024-12-16T20:16:15.456859Z"
    },
    "trusted": true
   },
   "outputs": [
    {
     "name": "stdout",
     "output_type": "stream",
     "text": [
      "Model: \"sequential_1\"\n",
      "_________________________________________________________________\n",
      "Layer (type)                 Output Shape              Param #   \n",
      "=================================================================\n",
      "embedding (Embedding)        (None, 81, 100)           1200000   \n",
      "_________________________________________________________________\n",
      "dropout (Dropout)            (None, 81, 100)           0         \n",
      "_________________________________________________________________\n",
      "bidirectional (Bidirectional (None, 81, 256)           234496    \n",
      "_________________________________________________________________\n",
      "dropout_1 (Dropout)          (None, 81, 256)           0         \n",
      "_________________________________________________________________\n",
      "bidirectional_1 (Bidirection (None, 81, 512)           1050624   \n",
      "_________________________________________________________________\n",
      "dropout_2 (Dropout)          (None, 81, 512)           0         \n",
      "_________________________________________________________________\n",
      "bidirectional_2 (Bidirection (None, 256)               656384    \n",
      "_________________________________________________________________\n",
      "dense (Dense)                (None, 64)                16448     \n",
      "_________________________________________________________________\n",
      "dense_1 (Dense)              (None, 32)                2080      \n",
      "_________________________________________________________________\n",
      "dense_2 (Dense)              (None, 10)                330       \n",
      "_________________________________________________________________\n",
      "dense_3 (Dense)              (None, 3)                 33        \n",
      "=================================================================\n",
      "Total params: 3,160,395\n",
      "Trainable params: 3,160,395\n",
      "Non-trainable params: 0\n",
      "_________________________________________________________________\n"
     ]
    }
   ],
   "source": [
    "lstm.summary()"
   ]
  },
  {
   "cell_type": "code",
   "execution_count": 31,
   "metadata": {
    "execution": {
     "iopub.execute_input": "2024-12-16T20:16:18.514177Z",
     "iopub.status.busy": "2024-12-16T20:16:18.513518Z",
     "iopub.status.idle": "2024-12-16T20:16:18.518909Z",
     "shell.execute_reply": "2024-12-16T20:16:18.517990Z",
     "shell.execute_reply.started": "2024-12-16T20:16:18.514142Z"
    },
    "trusted": true
   },
   "outputs": [],
   "source": [
    "from keras.callbacks import EarlyStopping, ModelCheckpoint\n",
    "es = EarlyStopping(monitor = 'val_loss', mode = 'min', verbose = 1, patience = 5)\n",
    "mc = ModelCheckpoint('./model.h5', monitor = 'val_accuracy', mode = 'max', verbose = 1, save_best_only = True)"
   ]
  },
  {
   "cell_type": "code",
   "execution_count": 32,
   "metadata": {
    "execution": {
     "iopub.execute_input": "2024-12-16T20:16:21.331036Z",
     "iopub.status.busy": "2024-12-16T20:16:21.330384Z",
     "iopub.status.idle": "2024-12-16T20:16:55.933415Z",
     "shell.execute_reply": "2024-12-16T20:16:55.932434Z",
     "shell.execute_reply.started": "2024-12-16T20:16:21.331001Z"
    },
    "trusted": true
   },
   "outputs": [
    {
     "name": "stdout",
     "output_type": "stream",
     "text": [
      "Epoch 1/10\n",
      "64/64 [==============================] - 14s 79ms/step - loss: 0.9424 - accuracy: 0.5688 - val_loss: 0.8493 - val_accuracy: 0.6537\n",
      "\n",
      "Epoch 00001: val_accuracy improved from -inf to 0.65374, saving model to ./model.h5\n",
      "Epoch 2/10\n",
      "64/64 [==============================] - 3s 53ms/step - loss: 0.6043 - accuracy: 0.7586 - val_loss: 0.7724 - val_accuracy: 0.6646\n",
      "\n",
      "Epoch 00002: val_accuracy improved from 0.65374 to 0.66458, saving model to ./model.h5\n",
      "Epoch 3/10\n",
      "64/64 [==============================] - 3s 53ms/step - loss: 0.3980 - accuracy: 0.8423 - val_loss: 0.8547 - val_accuracy: 0.6440\n",
      "\n",
      "Epoch 00003: val_accuracy did not improve from 0.66458\n",
      "Epoch 4/10\n",
      "64/64 [==============================] - 3s 53ms/step - loss: 0.2713 - accuracy: 0.8860 - val_loss: 1.0110 - val_accuracy: 0.6400\n",
      "\n",
      "Epoch 00004: val_accuracy did not improve from 0.66458\n",
      "Epoch 5/10\n",
      "64/64 [==============================] - 3s 53ms/step - loss: 0.2193 - accuracy: 0.9019 - val_loss: 1.1999 - val_accuracy: 0.6292\n",
      "\n",
      "Epoch 00005: val_accuracy did not improve from 0.66458\n",
      "Epoch 6/10\n",
      "64/64 [==============================] - 3s 53ms/step - loss: 0.1964 - accuracy: 0.9095 - val_loss: 1.2157 - val_accuracy: 0.6520\n",
      "\n",
      "Epoch 00006: val_accuracy did not improve from 0.66458\n",
      "Epoch 7/10\n",
      "64/64 [==============================] - 3s 53ms/step - loss: 0.1757 - accuracy: 0.9161 - val_loss: 1.2543 - val_accuracy: 0.6349\n",
      "\n",
      "Epoch 00007: val_accuracy did not improve from 0.66458\n",
      "Epoch 00007: early stopping\n"
     ]
    }
   ],
   "source": [
    "lstm_history = lstm.fit(X_train_pad,y_train, epochs = 10, batch_size = 64, validation_data=(X_test_pad, y_test),verbose = 1, callbacks= [es, mc])"
   ]
  },
  {
   "cell_type": "code",
   "execution_count": 33,
   "metadata": {
    "execution": {
     "iopub.execute_input": "2024-12-16T20:18:05.333175Z",
     "iopub.status.busy": "2024-12-16T20:18:05.332509Z",
     "iopub.status.idle": "2024-12-16T20:18:05.495012Z",
     "shell.execute_reply": "2024-12-16T20:18:05.494072Z",
     "shell.execute_reply.started": "2024-12-16T20:18:05.333139Z"
    },
    "trusted": true
   },
   "outputs": [
    {
     "data": {
      "image/png": "[encoded data removed]",
      "text/plain": [
       "<Figure size 432x288 with 1 Axes>"
      ]
     },
     "metadata": {},
     "output_type": "display_data"
    }
   ],
   "source": [
    "plt.plot(lstm_history.history['accuracy'], label='Train Data (Verileri)')\n",
    "plt.plot(lstm_history.history['val_accuracy'], label='Test Data (Verileri)')\n",
    "plt.xlabel('Epoch')\n",
    "plt.ylabel('Accuracy')\n",
    "\n",
    "#plt.ylim([0.8, 1])\n",
    "plt.legend(loc='best')\n",
    "plt.show()"
   ]
  },
  {
   "cell_type": "code",
   "execution_count": 34,
   "metadata": {
    "execution": {
     "iopub.execute_input": "2024-12-16T20:18:07.677817Z",
     "iopub.status.busy": "2024-12-16T20:18:07.677122Z",
     "iopub.status.idle": "2024-12-16T20:18:07.835361Z",
     "shell.execute_reply": "2024-12-16T20:18:07.834424Z",
     "shell.execute_reply.started": "2024-12-16T20:18:07.677779Z"
    },
    "trusted": true
   },
   "outputs": [
    {
     "data": {
      "image/png": "[encoded data removed]",
      "text/plain": [
       "<Figure size 432x288 with 1 Axes>"
      ]
     },
     "metadata": {},
     "output_type": "display_data"
    }
   ],
   "source": [
    "plt.plot(lstm_history.history['loss'], label='Train loss')\n",
    "plt.plot(lstm_history.history['val_loss'], label='Test loss')\n",
    "plt.xlabel('Epoch')\n",
    "plt.ylabel('Loss')\n",
    "plt.legend(loc='best')\n",
    "plt.show()"
   ]
  },
  {
   "cell_type": "code",
   "execution_count": 35,
   "metadata": {
    "execution": {
     "iopub.execute_input": "2024-12-16T20:18:11.124387Z",
     "iopub.status.busy": "2024-12-16T20:18:11.123638Z",
     "iopub.status.idle": "2024-12-16T20:18:13.360070Z",
     "shell.execute_reply": "2024-12-16T20:18:13.358970Z",
     "shell.execute_reply.started": "2024-12-16T20:18:11.124354Z"
    },
    "trusted": true
   },
   "outputs": [
    {
     "name": "stdout",
     "output_type": "stream",
     "text": [
      "              precision    recall  f1-score   support\n",
      "\n",
      "    positive       0.68      0.65      0.66       556\n",
      "    negative       0.32      0.37      0.34       258\n",
      "     neutral       0.71      0.70      0.70       939\n",
      "\n",
      "    accuracy                           0.63      1753\n",
      "   macro avg       0.57      0.57      0.57      1753\n",
      "weighted avg       0.64      0.63      0.64      1753\n",
      "\n"
     ]
    }
   ],
   "source": [
    "from sklearn.metrics import classification_report\n",
    "predictions = lstm.predict(X_test_pad)\n",
    "target_names=['positive','negative','neutral']\n",
    "print(classification_report(np.argmax(y_test,axis=1),np.argmax(predictions,axis=1),target_names=target_names))"
   ]
  },
  {
   "cell_type": "markdown",
   "metadata": {},
   "source": [
    "## Glove+LSTM"
   ]
  },
  {
   "cell_type": "code",
   "execution_count": 36,
   "metadata": {
    "execution": {
     "iopub.execute_input": "2024-12-16T20:18:16.032471Z",
     "iopub.status.busy": "2024-12-16T20:18:16.032111Z",
     "iopub.status.idle": "2024-12-16T20:19:15.913506Z",
     "shell.execute_reply": "2024-12-16T20:19:15.912471Z",
     "shell.execute_reply.started": "2024-12-16T20:18:16.032439Z"
    },
    "trusted": true
   },
   "outputs": [],
   "source": [
    "import gensim.downloader as api\n",
    "glove_gensim  = api.load('glove-wiki-gigaword-300')"
   ]
  },
  {
   "cell_type": "code",
   "execution_count": 37,
   "metadata": {
    "execution": {
     "iopub.execute_input": "2024-12-16T20:19:47.298857Z",
     "iopub.status.busy": "2024-12-16T20:19:47.297948Z",
     "iopub.status.idle": "2024-12-16T20:19:47.539240Z",
     "shell.execute_reply": "2024-12-16T20:19:47.536220Z",
     "shell.execute_reply.started": "2024-12-16T20:19:47.298824Z"
    },
    "trusted": true
   },
   "outputs": [
    {
     "data": {
      "text/plain": [
       "[('queen', 0.6713277101516724)]"
      ]
     },
     "execution_count": 37,
     "metadata": {},
     "output_type": "execute_result"
    }
   ],
   "source": [
    "glove_gensim.most_similar(positive=['king','woman'],negative=['man'],topn=1)"
   ]
  },
  {
   "cell_type": "code",
   "execution_count": 38,
   "metadata": {
    "execution": {
     "iopub.execute_input": "2024-12-16T20:19:49.524573Z",
     "iopub.status.busy": "2024-12-16T20:19:49.523728Z",
     "iopub.status.idle": "2024-12-16T20:19:49.617610Z",
     "shell.execute_reply": "2024-12-16T20:19:49.616668Z",
     "shell.execute_reply.started": "2024-12-16T20:19:49.524539Z"
    },
    "trusted": true
   },
   "outputs": [
    {
     "data": {
      "application/vnd.jupyter.widget-view+json": {
       "model_id": "2f9f11cf9e804c40b6dd92b963b74b3e",
       "version_major": 2,
       "version_minor": 0
      },
      "text/plain": [
       "  0%|          | 0/10891 [00:00<?, ?it/s]"
      ]
     },
     "metadata": {},
     "output_type": "display_data"
    }
   ],
   "source": [
    "vector_size = 300\n",
    "gensim_weight_matrix = np.zeros((num_words ,vector_size))\n",
    "gensim_weight_matrix.shape\n",
    "\n",
    "for word, index in tqdm(tokenizer.word_index.items()):\n",
    "    if index < num_words: # since index starts with zero \n",
    "        try:\n",
    "            gensim_weight_matrix[index] = glove_gensim[word]\n",
    "        except:\n",
    "            gensim_weight_matrix[index] = np.zeros(300)"
   ]
  },
  {
   "cell_type": "code",
   "execution_count": 39,
   "metadata": {
    "execution": {
     "iopub.execute_input": "2024-12-16T20:19:52.807265Z",
     "iopub.status.busy": "2024-12-16T20:19:52.806745Z",
     "iopub.status.idle": "2024-12-16T20:19:52.814732Z",
     "shell.execute_reply": "2024-12-16T20:19:52.813525Z",
     "shell.execute_reply.started": "2024-12-16T20:19:52.807217Z"
    },
    "trusted": true
   },
   "outputs": [
    {
     "data": {
      "text/plain": [
       "(12000, 300)"
      ]
     },
     "execution_count": 39,
     "metadata": {},
     "output_type": "execute_result"
    }
   ],
   "source": [
    "gensim_weight_matrix.shape"
   ]
  },
  {
   "cell_type": "code",
   "execution_count": 40,
   "metadata": {
    "execution": {
     "iopub.execute_input": "2024-12-16T20:19:55.999670Z",
     "iopub.status.busy": "2024-12-16T20:19:55.998799Z",
     "iopub.status.idle": "2024-12-16T20:19:57.223417Z",
     "shell.execute_reply": "2024-12-16T20:19:57.222562Z",
     "shell.execute_reply.started": "2024-12-16T20:19:55.999638Z"
    },
    "trusted": true
   },
   "outputs": [],
   "source": [
    "glove = Sequential()\n",
    "glove.add(Embedding(input_dim = num_words,\n",
    "                          output_dim = 300,\n",
    "                          input_length= X_train_pad.shape[1],\n",
    "                          weights = [gensim_weight_matrix],\n",
    "                          trainable = False))\n",
    "glove.add(Dropout(0.2))\n",
    "glove.add(Bidirectional(LSTM(128,return_sequences=True)))\n",
    "glove.add(Dropout(0.2))\n",
    "glove.add(Bidirectional(LSTM(256,return_sequences=True)))\n",
    "glove.add(Dropout(0.2))\n",
    "glove.add(Bidirectional(LSTM(128,return_sequences=False)))\n",
    "glove.add(Dense(64,activation='tanh'))\n",
    "glove.add(Dense(32,activation='tanh'))\n",
    "glove.add(Dense(10,activation='tanh'))\n",
    "glove.add(Dense(3,activation='softmax'))"
   ]
  },
  {
   "cell_type": "code",
   "execution_count": 41,
   "metadata": {
    "execution": {
     "iopub.execute_input": "2024-12-16T20:19:59.580936Z",
     "iopub.status.busy": "2024-12-16T20:19:59.580181Z",
     "iopub.status.idle": "2024-12-16T20:19:59.587440Z",
     "shell.execute_reply": "2024-12-16T20:19:59.586392Z",
     "shell.execute_reply.started": "2024-12-16T20:19:59.580904Z"
    },
    "trusted": true
   },
   "outputs": [
    {
     "name": "stdout",
     "output_type": "stream",
     "text": [
      "Model: \"sequential_2\"\n",
      "_________________________________________________________________\n",
      "Layer (type)                 Output Shape              Param #   \n",
      "=================================================================\n",
      "embedding_1 (Embedding)      (None, 81, 300)           3600000   \n",
      "_________________________________________________________________\n",
      "dropout_3 (Dropout)          (None, 81, 300)           0         \n",
      "_________________________________________________________________\n",
      "bidirectional_3 (Bidirection (None, 81, 256)           439296    \n",
      "_________________________________________________________________\n",
      "dropout_4 (Dropout)          (None, 81, 256)           0         \n",
      "_________________________________________________________________\n",
      "bidirectional_4 (Bidirection (None, 81, 512)           1050624   \n",
      "_________________________________________________________________\n",
      "dropout_5 (Dropout)          (None, 81, 512)           0         \n",
      "_________________________________________________________________\n",
      "bidirectional_5 (Bidirection (None, 256)               656384    \n",
      "_________________________________________________________________\n",
      "dense_4 (Dense)              (None, 64)                16448     \n",
      "_________________________________________________________________\n",
      "dense_5 (Dense)              (None, 32)                2080      \n",
      "_________________________________________________________________\n",
      "dense_6 (Dense)              (None, 10)                330       \n",
      "_________________________________________________________________\n",
      "dense_7 (Dense)              (None, 3)                 33        \n",
      "=================================================================\n",
      "Total params: 5,765,195\n",
      "Trainable params: 2,165,195\n",
      "Non-trainable params: 3,600,000\n",
      "_________________________________________________________________\n"
     ]
    }
   ],
   "source": [
    "glove.summary()"
   ]
  },
  {
   "cell_type": "code",
   "execution_count": 42,
   "metadata": {
    "execution": {
     "iopub.execute_input": "2024-12-16T20:20:02.459399Z",
     "iopub.status.busy": "2024-12-16T20:20:02.459037Z",
     "iopub.status.idle": "2024-12-16T20:20:02.469328Z",
     "shell.execute_reply": "2024-12-16T20:20:02.468589Z",
     "shell.execute_reply.started": "2024-12-16T20:20:02.459366Z"
    },
    "trusted": true
   },
   "outputs": [],
   "source": [
    "glove.compile(optimizer='adam',loss='categorical_crossentropy',metrics=['accuracy'])"
   ]
  },
  {
   "cell_type": "code",
   "execution_count": 43,
   "metadata": {
    "execution": {
     "iopub.execute_input": "2024-12-16T20:20:04.718337Z",
     "iopub.status.busy": "2024-12-16T20:20:04.717979Z",
     "iopub.status.idle": "2024-12-16T20:20:48.133509Z",
     "shell.execute_reply": "2024-12-16T20:20:48.132489Z",
     "shell.execute_reply.started": "2024-12-16T20:20:04.718304Z"
    },
    "trusted": true
   },
   "outputs": [
    {
     "name": "stdout",
     "output_type": "stream",
     "text": [
      "Epoch 1/10\n",
      "64/64 [==============================] - 12s 78ms/step - loss: 0.8509 - accuracy: 0.6070 - val_loss: 0.7724 - val_accuracy: 0.6418\n",
      "\n",
      "Epoch 00001: val_accuracy did not improve from 0.66458\n",
      "Epoch 2/10\n",
      "64/64 [==============================] - 3s 54ms/step - loss: 0.7152 - accuracy: 0.6838 - val_loss: 0.7297 - val_accuracy: 0.6703\n",
      "\n",
      "Epoch 00002: val_accuracy improved from 0.66458 to 0.67028, saving model to ./model.h5\n",
      "Epoch 3/10\n",
      "64/64 [==============================] - 3s 54ms/step - loss: 0.6515 - accuracy: 0.7234 - val_loss: 0.7081 - val_accuracy: 0.6880\n",
      "\n",
      "Epoch 00003: val_accuracy improved from 0.67028 to 0.68796, saving model to ./model.h5\n",
      "Epoch 4/10\n",
      "64/64 [==============================] - 3s 54ms/step - loss: 0.5956 - accuracy: 0.7457 - val_loss: 0.7016 - val_accuracy: 0.6874\n",
      "\n",
      "Epoch 00004: val_accuracy did not improve from 0.68796\n",
      "Epoch 5/10\n",
      "64/64 [==============================] - 3s 54ms/step - loss: 0.5599 - accuracy: 0.7640 - val_loss: 0.7574 - val_accuracy: 0.6885\n",
      "\n",
      "Epoch 00005: val_accuracy improved from 0.68796 to 0.68853, saving model to ./model.h5\n",
      "Epoch 6/10\n",
      "64/64 [==============================] - 3s 53ms/step - loss: 0.5016 - accuracy: 0.7794 - val_loss: 0.6821 - val_accuracy: 0.6942\n",
      "\n",
      "Epoch 00006: val_accuracy improved from 0.68853 to 0.69424, saving model to ./model.h5\n",
      "Epoch 7/10\n",
      "64/64 [==============================] - 3s 54ms/step - loss: 0.4630 - accuracy: 0.7941 - val_loss: 0.7212 - val_accuracy: 0.7017\n",
      "\n",
      "Epoch 00007: val_accuracy improved from 0.69424 to 0.70165, saving model to ./model.h5\n",
      "Epoch 8/10\n",
      "64/64 [==============================] - 3s 54ms/step - loss: 0.4144 - accuracy: 0.8171 - val_loss: 0.7703 - val_accuracy: 0.7074\n",
      "\n",
      "Epoch 00008: val_accuracy improved from 0.70165 to 0.70736, saving model to ./model.h5\n",
      "Epoch 9/10\n",
      "64/64 [==============================] - 3s 54ms/step - loss: 0.3915 - accuracy: 0.8283 - val_loss: 0.7460 - val_accuracy: 0.7074\n",
      "\n",
      "Epoch 00009: val_accuracy did not improve from 0.70736\n",
      "Epoch 10/10\n",
      "64/64 [==============================] - 3s 54ms/step - loss: 0.3644 - accuracy: 0.8357 - val_loss: 0.7894 - val_accuracy: 0.6788\n",
      "\n",
      "Epoch 00010: val_accuracy did not improve from 0.70736\n"
     ]
    }
   ],
   "source": [
    "glove_history = glove.fit(X_train_pad,y_train, epochs = 10, batch_size = 64, validation_data=(X_test_pad, y_test),verbose = 1, callbacks= [es, mc])"
   ]
  },
  {
   "cell_type": "code",
   "execution_count": 44,
   "metadata": {
    "execution": {
     "iopub.execute_input": "2024-12-16T20:21:14.223379Z",
     "iopub.status.busy": "2024-12-16T20:21:14.222409Z",
     "iopub.status.idle": "2024-12-16T20:21:14.446043Z",
     "shell.execute_reply": "2024-12-16T20:21:14.445106Z",
     "shell.execute_reply.started": "2024-12-16T20:21:14.223341Z"
    },
    "trusted": true
   },
   "outputs": [
    {
     "data": {
      "image/png": "[encoded data removed]",
      "text/plain": [
       "<Figure size 432x288 with 1 Axes>"
      ]
     },
     "metadata": {},
     "output_type": "display_data"
    }
   ],
   "source": [
    "plt.plot(glove_history.history['accuracy'], label='Train Data')\n",
    "plt.plot(glove_history.history['val_accuracy'], label='Test Data')\n",
    "plt.xlabel('Epoch')\n",
    "plt.ylabel('Accuracy')\n",
    "#plt.ylim([0.98, 1])\n",
    "plt.legend(loc='best')\n",
    "plt.show()"
   ]
  },
  {
   "cell_type": "code",
   "execution_count": 45,
   "metadata": {
    "execution": {
     "iopub.execute_input": "2024-12-16T20:21:16.733072Z",
     "iopub.status.busy": "2024-12-16T20:21:16.732413Z",
     "iopub.status.idle": "2024-12-16T20:21:16.958666Z",
     "shell.execute_reply": "2024-12-16T20:21:16.957750Z",
     "shell.execute_reply.started": "2024-12-16T20:21:16.733034Z"
    },
    "trusted": true
   },
   "outputs": [
    {
     "data": {
      "image/png": "[encoded data removed]",
      "text/plain": [
       "<Figure size 432x288 with 1 Axes>"
      ]
     },
     "metadata": {},
     "output_type": "display_data"
    }
   ],
   "source": [
    "plt.plot(glove_history.history['loss'], label='Train loss')\n",
    "plt.plot(glove_history.history['val_loss'], label='Test loss')\n",
    "plt.xlabel('Epoch')\n",
    "plt.ylabel('Loss')\n",
    "plt.legend(loc='best')\n",
    "plt.show()"
   ]
  },
  {
   "cell_type": "code",
   "execution_count": 46,
   "metadata": {
    "execution": {
     "iopub.execute_input": "2024-12-16T20:21:19.351857Z",
     "iopub.status.busy": "2024-12-16T20:21:19.350732Z",
     "iopub.status.idle": "2024-12-16T20:21:21.585512Z",
     "shell.execute_reply": "2024-12-16T20:21:21.584487Z",
     "shell.execute_reply.started": "2024-12-16T20:21:19.351820Z"
    },
    "trusted": true
   },
   "outputs": [
    {
     "name": "stdout",
     "output_type": "stream",
     "text": [
      "              precision    recall  f1-score   support\n",
      "\n",
      "    positive       0.66      0.71      0.69       556\n",
      "    negative       0.42      0.45      0.44       258\n",
      "     neutral       0.77      0.72      0.74       939\n",
      "\n",
      "    accuracy                           0.68      1753\n",
      "   macro avg       0.62      0.63      0.62      1753\n",
      "weighted avg       0.68      0.68      0.68      1753\n",
      "\n"
     ]
    }
   ],
   "source": [
    "predictions = glove.predict(X_test_pad)\n",
    "target_names=['positive','negative','neutral']\n",
    "print(classification_report(np.argmax(y_test,axis=1),np.argmax(predictions,axis=1),target_names=target_names))"
   ]
  },
  {
   "cell_type": "markdown",
   "metadata": {},
   "source": [
    "## Glove+GRU"
   ]
  },
  {
   "cell_type": "code",
   "execution_count": 47,
   "metadata": {
    "execution": {
     "iopub.execute_input": "2024-12-16T20:21:24.723052Z",
     "iopub.status.busy": "2024-12-16T20:21:24.722324Z",
     "iopub.status.idle": "2024-12-16T20:21:25.780352Z",
     "shell.execute_reply": "2024-12-16T20:21:25.779608Z",
     "shell.execute_reply.started": "2024-12-16T20:21:24.723017Z"
    },
    "trusted": true
   },
   "outputs": [],
   "source": [
    "from keras.layers import GRU\n",
    "gru = Sequential()\n",
    "gru.add(Embedding(input_dim = num_words,\n",
    "                          output_dim = 300,\n",
    "                          input_length= X_train_pad.shape[1],\n",
    "                          weights = [gensim_weight_matrix],\n",
    "                          trainable = False))\n",
    "gru.add(Dropout(0.2))\n",
    "gru.add(Bidirectional(GRU(128,return_sequences=True)))\n",
    "gru.add(Dropout(0.2))\n",
    "gru.add(Bidirectional(GRU(256,return_sequences=True)))\n",
    "gru.add(Dropout(0.2))\n",
    "gru.add(Bidirectional(GRU(128,return_sequences=False)))\n",
    "gru.add(Dense(64,activation='tanh'))\n",
    "gru.add(Dense(32,activation='tanh'))\n",
    "gru.add(Dense(10,activation='tanh'))\n",
    "gru.add(Dense(3,activation='softmax'))"
   ]
  },
  {
   "cell_type": "code",
   "execution_count": 48,
   "metadata": {
    "execution": {
     "iopub.execute_input": "2024-12-16T20:21:28.396840Z",
     "iopub.status.busy": "2024-12-16T20:21:28.396479Z",
     "iopub.status.idle": "2024-12-16T20:21:28.403689Z",
     "shell.execute_reply": "2024-12-16T20:21:28.402556Z",
     "shell.execute_reply.started": "2024-12-16T20:21:28.396807Z"
    },
    "trusted": true
   },
   "outputs": [
    {
     "name": "stdout",
     "output_type": "stream",
     "text": [
      "Model: \"sequential_3\"\n",
      "_________________________________________________________________\n",
      "Layer (type)                 Output Shape              Param #   \n",
      "=================================================================\n",
      "embedding_2 (Embedding)      (None, 81, 300)           3600000   \n",
      "_________________________________________________________________\n",
      "dropout_6 (Dropout)          (None, 81, 300)           0         \n",
      "_________________________________________________________________\n",
      "bidirectional_6 (Bidirection (None, 81, 256)           330240    \n",
      "_________________________________________________________________\n",
      "dropout_7 (Dropout)          (None, 81, 256)           0         \n",
      "_________________________________________________________________\n",
      "bidirectional_7 (Bidirection (None, 81, 512)           789504    \n",
      "_________________________________________________________________\n",
      "dropout_8 (Dropout)          (None, 81, 512)           0         \n",
      "_________________________________________________________________\n",
      "bidirectional_8 (Bidirection (None, 256)               493056    \n",
      "_________________________________________________________________\n",
      "dense_8 (Dense)              (None, 64)                16448     \n",
      "_________________________________________________________________\n",
      "dense_9 (Dense)              (None, 32)                2080      \n",
      "_________________________________________________________________\n",
      "dense_10 (Dense)             (None, 10)                330       \n",
      "_________________________________________________________________\n",
      "dense_11 (Dense)             (None, 3)                 33        \n",
      "=================================================================\n",
      "Total params: 5,231,691\n",
      "Trainable params: 1,631,691\n",
      "Non-trainable params: 3,600,000\n",
      "_________________________________________________________________\n"
     ]
    }
   ],
   "source": [
    "gru.summary()"
   ]
  },
  {
   "cell_type": "code",
   "execution_count": 49,
   "metadata": {
    "execution": {
     "iopub.execute_input": "2024-12-16T20:21:31.290511Z",
     "iopub.status.busy": "2024-12-16T20:21:31.289401Z",
     "iopub.status.idle": "2024-12-16T20:21:31.299414Z",
     "shell.execute_reply": "2024-12-16T20:21:31.298665Z",
     "shell.execute_reply.started": "2024-12-16T20:21:31.290472Z"
    },
    "trusted": true
   },
   "outputs": [],
   "source": [
    "gru.compile(optimizer='adam',loss='categorical_crossentropy',metrics=['accuracy'])"
   ]
  },
  {
   "cell_type": "code",
   "execution_count": 50,
   "metadata": {
    "execution": {
     "iopub.execute_input": "2024-12-16T20:21:33.438460Z",
     "iopub.status.busy": "2024-12-16T20:21:33.437772Z",
     "iopub.status.idle": "2024-12-16T20:22:11.706069Z",
     "shell.execute_reply": "2024-12-16T20:22:11.705149Z",
     "shell.execute_reply.started": "2024-12-16T20:21:33.438421Z"
    },
    "trusted": true
   },
   "outputs": [
    {
     "name": "stdout",
     "output_type": "stream",
     "text": [
      "Epoch 1/10\n",
      "64/64 [==============================] - 11s 69ms/step - loss: 0.8936 - accuracy: 0.5957 - val_loss: 0.8042 - val_accuracy: 0.6549\n",
      "\n",
      "Epoch 00001: val_accuracy did not improve from 0.70736\n",
      "Epoch 2/10\n",
      "64/64 [==============================] - 3s 47ms/step - loss: 0.7430 - accuracy: 0.6828 - val_loss: 0.7508 - val_accuracy: 0.6674\n",
      "\n",
      "Epoch 00002: val_accuracy did not improve from 0.70736\n",
      "Epoch 3/10\n",
      "64/64 [==============================] - 3s 47ms/step - loss: 0.6847 - accuracy: 0.7166 - val_loss: 0.7183 - val_accuracy: 0.6834\n",
      "\n",
      "Epoch 00003: val_accuracy did not improve from 0.70736\n",
      "Epoch 4/10\n",
      "64/64 [==============================] - 3s 47ms/step - loss: 0.6250 - accuracy: 0.7315 - val_loss: 0.7057 - val_accuracy: 0.6914\n",
      "\n",
      "Epoch 00004: val_accuracy did not improve from 0.70736\n",
      "Epoch 5/10\n",
      "64/64 [==============================] - 3s 47ms/step - loss: 0.5721 - accuracy: 0.7547 - val_loss: 0.6825 - val_accuracy: 0.7114\n",
      "\n",
      "Epoch 00005: val_accuracy improved from 0.70736 to 0.71135, saving model to ./model.h5\n",
      "Epoch 6/10\n",
      "64/64 [==============================] - 3s 47ms/step - loss: 0.5175 - accuracy: 0.7816 - val_loss: 0.6956 - val_accuracy: 0.6982\n",
      "\n",
      "Epoch 00006: val_accuracy did not improve from 0.71135\n",
      "Epoch 7/10\n",
      "64/64 [==============================] - 3s 47ms/step - loss: 0.4784 - accuracy: 0.7938 - val_loss: 0.6868 - val_accuracy: 0.7056\n",
      "\n",
      "Epoch 00007: val_accuracy did not improve from 0.71135\n",
      "Epoch 8/10\n",
      "64/64 [==============================] - 3s 47ms/step - loss: 0.4346 - accuracy: 0.8088 - val_loss: 0.7545 - val_accuracy: 0.6748\n",
      "\n",
      "Epoch 00008: val_accuracy did not improve from 0.71135\n",
      "Epoch 9/10\n",
      "64/64 [==============================] - 3s 47ms/step - loss: 0.4165 - accuracy: 0.8168 - val_loss: 0.6999 - val_accuracy: 0.7045\n",
      "\n",
      "Epoch 00009: val_accuracy did not improve from 0.71135\n",
      "Epoch 10/10\n",
      "64/64 [==============================] - 3s 47ms/step - loss: 0.3841 - accuracy: 0.8283 - val_loss: 0.7422 - val_accuracy: 0.7017\n",
      "\n",
      "Epoch 00010: val_accuracy did not improve from 0.71135\n",
      "Epoch 00010: early stopping\n"
     ]
    }
   ],
   "source": [
    "gru_history = gru.fit(X_train_pad,y_train, epochs = 10, batch_size = 64, validation_data=(X_test_pad, y_test),verbose = 1, callbacks= [es, mc])"
   ]
  },
  {
   "cell_type": "code",
   "execution_count": 51,
   "metadata": {
    "execution": {
     "iopub.execute_input": "2024-12-16T20:23:03.111902Z",
     "iopub.status.busy": "2024-12-16T20:23:03.110893Z",
     "iopub.status.idle": "2024-12-16T20:23:03.340654Z",
     "shell.execute_reply": "2024-12-16T20:23:03.339773Z",
     "shell.execute_reply.started": "2024-12-16T20:23:03.111857Z"
    },
    "trusted": true
   },
   "outputs": [
    {
     "data": {
      "image/png": "[encoded data removed]",
      "text/plain": [
       "<Figure size 432x288 with 1 Axes>"
      ]
     },
     "metadata": {},
     "output_type": "display_data"
    }
   ],
   "source": [
    "plt.plot(gru_history.history['accuracy'], label='Train Data')\n",
    "plt.plot(gru_history.history['val_accuracy'], label='Test Data')\n",
    "plt.xlabel('Epoch')\n",
    "plt.ylabel('Accuracy')\n",
    "\n",
    "#plt.ylim([0.7, 1])\n",
    "plt.legend(loc='best')\n",
    "plt.show()"
   ]
  },
  {
   "cell_type": "code",
   "execution_count": 52,
   "metadata": {
    "execution": {
     "iopub.execute_input": "2024-12-16T20:23:06.755925Z",
     "iopub.status.busy": "2024-12-16T20:23:06.755460Z",
     "iopub.status.idle": "2024-12-16T20:23:06.978241Z",
     "shell.execute_reply": "2024-12-16T20:23:06.977313Z",
     "shell.execute_reply.started": "2024-12-16T20:23:06.755891Z"
    },
    "trusted": true
   },
   "outputs": [
    {
     "data": {
      "image/png": "[encoded data removed]",
      "text/plain": [
       "<Figure size 432x288 with 1 Axes>"
      ]
     },
     "metadata": {},
     "output_type": "display_data"
    }
   ],
   "source": [
    "plt.plot(gru_history.history['loss'], label='Train loss')\n",
    "plt.plot(gru_history.history['val_loss'], label='Test loss')\n",
    "plt.xlabel('Epoch')\n",
    "plt.ylabel('Loss')\n",
    "plt.legend(loc='best')\n",
    "plt.show()"
   ]
  },
  {
   "cell_type": "code",
   "execution_count": 53,
   "metadata": {
    "execution": {
     "iopub.execute_input": "2024-12-16T20:23:11.891986Z",
     "iopub.status.busy": "2024-12-16T20:23:11.891361Z",
     "iopub.status.idle": "2024-12-16T20:23:13.838649Z",
     "shell.execute_reply": "2024-12-16T20:23:13.837673Z",
     "shell.execute_reply.started": "2024-12-16T20:23:11.891950Z"
    },
    "trusted": true
   },
   "outputs": [
    {
     "name": "stdout",
     "output_type": "stream",
     "text": [
      "              precision    recall  f1-score   support\n",
      "\n",
      "    positive       0.71      0.75      0.73       556\n",
      "    negative       0.43      0.50      0.46       258\n",
      "     neutral       0.79      0.73      0.76       939\n",
      "\n",
      "    accuracy                           0.70      1753\n",
      "   macro avg       0.64      0.66      0.65      1753\n",
      "weighted avg       0.71      0.70      0.71      1753\n",
      "\n"
     ]
    }
   ],
   "source": [
    "predictions = gru.predict(X_test_pad)\n",
    "target_names=['positive','negative','neutral']\n",
    "print(classification_report(np.argmax(y_test,axis=1),np.argmax(predictions,axis=1),target_names=target_names))"
   ]
  },
  {
   "cell_type": "markdown",
   "metadata": {},
   "source": [
    "## Fasttext+LSTM"
   ]
  },
  {
   "cell_type": "code",
   "execution_count": 55,
   "metadata": {
    "execution": {
     "iopub.execute_input": "2024-12-16T20:47:01.518593Z",
     "iopub.status.busy": "2024-12-16T20:47:01.517825Z",
     "iopub.status.idle": "2024-12-16T20:49:32.894736Z",
     "shell.execute_reply": "2024-12-16T20:49:32.893935Z",
     "shell.execute_reply.started": "2024-12-16T20:47:01.518560Z"
    },
    "trusted": true
   },
   "outputs": [],
   "source": [
    "import gensim.downloader as api\n",
    "glove_gensim  = api.load('fasttext-wiki-news-subwords-300')"
   ]
  },
  {
   "cell_type": "code",
   "execution_count": 56,
   "metadata": {
    "execution": {
     "iopub.execute_input": "2024-12-16T20:52:17.814337Z",
     "iopub.status.busy": "2024-12-16T20:52:17.813548Z",
     "iopub.status.idle": "2024-12-16T20:52:17.887945Z",
     "shell.execute_reply": "2024-12-16T20:52:17.887172Z",
     "shell.execute_reply.started": "2024-12-16T20:52:17.814303Z"
    },
    "trusted": true
   },
   "outputs": [
    {
     "data": {
      "application/vnd.jupyter.widget-view+json": {
       "model_id": "7dc53e430ac44e10a8ad89075e45441a",
       "version_major": 2,
       "version_minor": 0
      },
      "text/plain": [
       "  0%|          | 0/10891 [00:00<?, ?it/s]"
      ]
     },
     "metadata": {},
     "output_type": "display_data"
    }
   ],
   "source": [
    "vector_size = 300\n",
    "gensim_weight_matrix = np.zeros((num_words ,vector_size))\n",
    "gensim_weight_matrix.shape\n",
    "\n",
    "for word, index in tqdm(tokenizer.word_index.items()):\n",
    "    if index < num_words: # since index starts with zero \n",
    "        try:\n",
    "            gensim_weight_matrix[index] = glove_gensim[word]\n",
    "        except:\n",
    "            gensim_weight_matrix[index] = np.zeros(300)"
   ]
  },
  {
   "cell_type": "code",
   "execution_count": 57,
   "metadata": {
    "execution": {
     "iopub.execute_input": "2024-12-16T20:52:21.790305Z",
     "iopub.status.busy": "2024-12-16T20:52:21.789962Z",
     "iopub.status.idle": "2024-12-16T20:52:23.022951Z",
     "shell.execute_reply": "2024-12-16T20:52:23.021935Z",
     "shell.execute_reply.started": "2024-12-16T20:52:21.790274Z"
    },
    "trusted": true
   },
   "outputs": [],
   "source": [
    "ftext = Sequential()\n",
    "ftext.add(Embedding(input_dim = num_words,\n",
    "                          output_dim = 300,\n",
    "                          input_length= X_train_pad.shape[1],\n",
    "                          weights = [gensim_weight_matrix],\n",
    "                          trainable = False))\n",
    "ftext.add(Dropout(0.2))\n",
    "ftext.add(Bidirectional(LSTM(128,return_sequences=True)))\n",
    "ftext.add(Dropout(0.2))\n",
    "ftext.add(Bidirectional(LSTM(256,return_sequences=True)))\n",
    "ftext.add(Dropout(0.2))\n",
    "ftext.add(Bidirectional(LSTM(128,return_sequences=False)))\n",
    "ftext.add(Dense(64,activation='tanh'))\n",
    "ftext.add(Dense(32,activation='tanh'))\n",
    "ftext.add(Dense(10,activation='tanh'))\n",
    "ftext.add(Dense(3,activation='softmax'))"
   ]
  },
  {
   "cell_type": "code",
   "execution_count": 58,
   "metadata": {
    "execution": {
     "iopub.execute_input": "2024-12-16T20:52:25.554760Z",
     "iopub.status.busy": "2024-12-16T20:52:25.554031Z",
     "iopub.status.idle": "2024-12-16T20:52:25.561352Z",
     "shell.execute_reply": "2024-12-16T20:52:25.560314Z",
     "shell.execute_reply.started": "2024-12-16T20:52:25.554701Z"
    },
    "trusted": true
   },
   "outputs": [
    {
     "name": "stdout",
     "output_type": "stream",
     "text": [
      "Model: \"sequential_4\"\n",
      "_________________________________________________________________\n",
      "Layer (type)                 Output Shape              Param #   \n",
      "=================================================================\n",
      "embedding_3 (Embedding)      (None, 81, 300)           3600000   \n",
      "_________________________________________________________________\n",
      "dropout_9 (Dropout)          (None, 81, 300)           0         \n",
      "_________________________________________________________________\n",
      "bidirectional_9 (Bidirection (None, 81, 256)           439296    \n",
      "_________________________________________________________________\n",
      "dropout_10 (Dropout)         (None, 81, 256)           0         \n",
      "_________________________________________________________________\n",
      "bidirectional_10 (Bidirectio (None, 81, 512)           1050624   \n",
      "_________________________________________________________________\n",
      "dropout_11 (Dropout)         (None, 81, 512)           0         \n",
      "_________________________________________________________________\n",
      "bidirectional_11 (Bidirectio (None, 256)               656384    \n",
      "_________________________________________________________________\n",
      "dense_12 (Dense)             (None, 64)                16448     \n",
      "_________________________________________________________________\n",
      "dense_13 (Dense)             (None, 32)                2080      \n",
      "_________________________________________________________________\n",
      "dense_14 (Dense)             (None, 10)                330       \n",
      "_________________________________________________________________\n",
      "dense_15 (Dense)             (None, 3)                 33        \n",
      "=================================================================\n",
      "Total params: 5,765,195\n",
      "Trainable params: 2,165,195\n",
      "Non-trainable params: 3,600,000\n",
      "_________________________________________________________________\n"
     ]
    }
   ],
   "source": [
    "ftext.summary()"
   ]
  },
  {
   "cell_type": "code",
   "execution_count": 59,
   "metadata": {
    "execution": {
     "iopub.execute_input": "2024-12-16T20:52:28.189566Z",
     "iopub.status.busy": "2024-12-16T20:52:28.188601Z",
     "iopub.status.idle": "2024-12-16T20:52:28.199065Z",
     "shell.execute_reply": "2024-12-16T20:52:28.198146Z",
     "shell.execute_reply.started": "2024-12-16T20:52:28.189530Z"
    },
    "trusted": true
   },
   "outputs": [],
   "source": [
    "ftext.compile(optimizer='adam',loss='categorical_crossentropy',metrics=['accuracy'])"
   ]
  },
  {
   "cell_type": "code",
   "execution_count": 60,
   "metadata": {
    "execution": {
     "iopub.execute_input": "2024-12-16T20:52:30.726148Z",
     "iopub.status.busy": "2024-12-16T20:52:30.725755Z",
     "iopub.status.idle": "2024-12-16T20:53:13.193547Z",
     "shell.execute_reply": "2024-12-16T20:53:13.192755Z",
     "shell.execute_reply.started": "2024-12-16T20:52:30.726101Z"
    },
    "trusted": true
   },
   "outputs": [
    {
     "name": "stdout",
     "output_type": "stream",
     "text": [
      "Epoch 1/10\n",
      "64/64 [==============================] - 12s 77ms/step - loss: 0.9164 - accuracy: 0.5691 - val_loss: 0.8315 - val_accuracy: 0.6343\n",
      "\n",
      "Epoch 00001: val_accuracy did not improve from 0.71135\n",
      "Epoch 2/10\n",
      "64/64 [==============================] - 3s 53ms/step - loss: 0.8182 - accuracy: 0.6349 - val_loss: 0.8226 - val_accuracy: 0.6338\n",
      "\n",
      "Epoch 00002: val_accuracy did not improve from 0.71135\n",
      "Epoch 3/10\n",
      "64/64 [==============================] - 3s 54ms/step - loss: 0.7471 - accuracy: 0.6691 - val_loss: 0.8405 - val_accuracy: 0.6452\n",
      "\n",
      "Epoch 00003: val_accuracy did not improve from 0.71135\n",
      "Epoch 4/10\n",
      "64/64 [==============================] - 3s 54ms/step - loss: 0.7280 - accuracy: 0.6831 - val_loss: 0.8024 - val_accuracy: 0.6326\n",
      "\n",
      "Epoch 00004: val_accuracy did not improve from 0.71135\n",
      "Epoch 5/10\n",
      "64/64 [==============================] - 3s 53ms/step - loss: 0.7068 - accuracy: 0.6875 - val_loss: 0.7248 - val_accuracy: 0.6691\n",
      "\n",
      "Epoch 00005: val_accuracy did not improve from 0.71135\n",
      "Epoch 6/10\n",
      "64/64 [==============================] - 3s 53ms/step - loss: 0.6668 - accuracy: 0.7119 - val_loss: 0.7589 - val_accuracy: 0.6503\n",
      "\n",
      "Epoch 00006: val_accuracy did not improve from 0.71135\n",
      "Epoch 7/10\n",
      "64/64 [==============================] - 3s 54ms/step - loss: 0.6727 - accuracy: 0.7058 - val_loss: 0.7264 - val_accuracy: 0.6777\n",
      "\n",
      "Epoch 00007: val_accuracy did not improve from 0.71135\n",
      "Epoch 8/10\n",
      "64/64 [==============================] - 3s 54ms/step - loss: 0.6493 - accuracy: 0.7122 - val_loss: 0.7173 - val_accuracy: 0.6697\n",
      "\n",
      "Epoch 00008: val_accuracy did not improve from 0.71135\n",
      "Epoch 9/10\n",
      "64/64 [==============================] - 3s 53ms/step - loss: 0.6179 - accuracy: 0.7293 - val_loss: 0.7436 - val_accuracy: 0.6726\n",
      "\n",
      "Epoch 00009: val_accuracy did not improve from 0.71135\n",
      "Epoch 10/10\n",
      "64/64 [==============================] - 3s 54ms/step - loss: 0.6077 - accuracy: 0.7337 - val_loss: 0.7337 - val_accuracy: 0.6640\n",
      "\n",
      "Epoch 00010: val_accuracy did not improve from 0.71135\n"
     ]
    }
   ],
   "source": [
    "ftext_history = ftext.fit(X_train_pad,y_train, epochs = 10, batch_size = 64, validation_data=(X_test_pad, y_test),verbose = 1, callbacks= [es, mc])"
   ]
  },
  {
   "cell_type": "code",
   "execution_count": 61,
   "metadata": {
    "execution": {
     "iopub.execute_input": "2024-12-16T20:53:52.167559Z",
     "iopub.status.busy": "2024-12-16T20:53:52.167166Z",
     "iopub.status.idle": "2024-12-16T20:53:52.392250Z",
     "shell.execute_reply": "2024-12-16T20:53:52.391428Z",
     "shell.execute_reply.started": "2024-12-16T20:53:52.167526Z"
    },
    "trusted": true
   },
   "outputs": [
    {
     "data": {
      "image/png": "[encoded data removed]",
      "text/plain": [
       "<Figure size 432x288 with 1 Axes>"
      ]
     },
     "metadata": {},
     "output_type": "display_data"
    }
   ],
   "source": [
    "plt.plot(ftext_history.history['accuracy'], label='Train Data')\n",
    "plt.plot(ftext_history.history['val_accuracy'], label='Test Data')\n",
    "plt.xlabel('Epoch')\n",
    "plt.ylabel('Accuracy')\n",
    "#plt.ylim([0.8, 1])\n",
    "plt.legend(loc='best')\n",
    "plt.show()"
   ]
  },
  {
   "cell_type": "code",
   "execution_count": 62,
   "metadata": {
    "execution": {
     "iopub.execute_input": "2024-12-16T20:53:54.829606Z",
     "iopub.status.busy": "2024-12-16T20:53:54.828936Z",
     "iopub.status.idle": "2024-12-16T20:53:55.056048Z",
     "shell.execute_reply": "2024-12-16T20:53:55.055169Z",
     "shell.execute_reply.started": "2024-12-16T20:53:54.829572Z"
    },
    "trusted": true
   },
   "outputs": [
    {
     "data": {
      "image/png": "[encoded data removed]",
      "text/plain": [
       "<Figure size 432x288 with 1 Axes>"
      ]
     },
     "metadata": {},
     "output_type": "display_data"
    }
   ],
   "source": [
    "plt.plot(ftext_history.history['loss'], label='Train loss')\n",
    "plt.plot(ftext_history.history['val_loss'], label='Test loss')\n",
    "plt.xlabel('Epoch')\n",
    "plt.ylabel('Loss')\n",
    "plt.legend(loc='best')\n",
    "plt.show()"
   ]
  },
  {
   "cell_type": "code",
   "execution_count": 63,
   "metadata": {
    "execution": {
     "iopub.execute_input": "2024-12-16T20:53:58.646290Z",
     "iopub.status.busy": "2024-12-16T20:53:58.645600Z",
     "iopub.status.idle": "2024-12-16T20:54:00.912255Z",
     "shell.execute_reply": "2024-12-16T20:54:00.911329Z",
     "shell.execute_reply.started": "2024-12-16T20:53:58.646255Z"
    },
    "trusted": true
   },
   "outputs": [
    {
     "name": "stdout",
     "output_type": "stream",
     "text": [
      "              precision    recall  f1-score   support\n",
      "\n",
      "    positive       0.71      0.60      0.65       556\n",
      "    negative       0.38      0.52      0.44       258\n",
      "     neutral       0.75      0.74      0.74       939\n",
      "\n",
      "    accuracy                           0.66      1753\n",
      "   macro avg       0.61      0.62      0.61      1753\n",
      "weighted avg       0.68      0.66      0.67      1753\n",
      "\n"
     ]
    }
   ],
   "source": [
    "predictions = ftext.predict(X_test_pad)\n",
    "target_names=['positive','negative','neutral']\n",
    "print(classification_report(np.argmax(y_test,axis=1),np.argmax(predictions,axis=1),target_names=target_names))"
   ]
  },
  {
   "cell_type": "markdown",
   "metadata": {},
   "source": [
    "## Sonuçlar"
   ]
  },
  {
   "cell_type": "markdown",
   "metadata": {},
   "source": [
    "|S.No|Vector Embedding|Reccurent layer|Accuracy|\n",
    "|--|--|--|--|\n",
    "|1|None|LSTM|65%|\n",
    "|2|Glove|LSTM|70%|\n",
    "|3|Glove|GRU|72%|\n",
    "|4|FastText|LSTM|68%|"
   ]
  },
  {
   "cell_type": "markdown",
   "metadata": {},
   "source": [
    "# Çözüm"
   ]
  },
  {
   "cell_type": "markdown",
   "metadata": {},
   "source": [
    "Çalışmanın temel amacı, finansal haberlerin tonunu belirleyebilen bir model üretmektir. Bu, çeşitli yerleştirmeler kullanan LSTM ve GRU gibi RNN modelleri kullanılarak gerçekleştirilir. Sınıflar dengesiz olduğundan ve en iyi doğruluğun %72 olan GLove+GRU modeli tarafından üretildiğinden, veri setinin tonu mükemmel bir şekilde belirleyebilecek kadar yetenekli olmadığı unutulmamalıdır.\n",
    "\n",
    "Bu çalışmanın gerçek hayattaki uygulaması, finansal analizin otomasyonu, kar ve zararların kolayca çıkarılması ve daha birçokları gibi çeşitli yaklaşımlarda faydalı olabilir. Bu çalışma, daha karmaşık yaklaşımlar oluşturmada başlangıç ​​​​adımıdır."
   ]
  }
 ],
 "metadata": {
  "kaggle": {
   "accelerator": "gpu",
   "dataSources": [
    {
     "datasetId": 1918992,
     "sourceId": 3205803,
     "sourceType": "datasetVersion"
    }
   ],
   "dockerImageVersionId": 30302,
   "isGpuEnabled": true,
   "isInternetEnabled": true,
   "language": "python",
   "sourceType": "notebook"
  },
  "kernelspec": {
   "display_name": "Python 3",
   "language": "python",
   "name": "python3"
  },
  "language_info": {
   "codemirror_mode": {
    "name": "ipython",
    "version": 3
   },
   "file_extension": ".py",
   "mimetype": "text/x-python",
   "name": "python",
   "nbconvert_exporter": "python",
   "pygments_lexer": "ipython3",
   "version": "3.7.12"
  }
 },
 "nbformat": 4,
 "nbformat_minor": 4
}
